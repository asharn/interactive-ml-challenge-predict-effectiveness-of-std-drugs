{
 "cells": [
  {
   "cell_type": "markdown",
   "metadata": {},
   "source": [
    "# Effectiveness Of STD Drugs\n",
    "## Problem Statement\n",
    "![Problem Statement](problem-statement.png)\n",
    "\n",
    "**Evaluation Algorithm**\n",
    "**Root Mean Square Error (RMSE**)\n",
    "normalization_constant 100000\n",
    "Datasets\n",
    "Training\tdownload train.csv\n",
    "Testing\tdownload test.csv\n",
    "Sample Submission\tdownload sample.csv"
   ]
  },
  {
   "cell_type": "markdown",
   "metadata": {},
   "source": [
    "# Importing required libraries and setup some variables"
   ]
  },
  {
   "cell_type": "code",
   "execution_count": 9,
   "metadata": {
    "_cell_guid": "b1076dfc-b9ad-4769-8c92-a6c4dae69d19",
    "_uuid": "8f2839f25d086af736a60e9eeb907d3b93b6e0e5"
   },
   "outputs": [],
   "source": [
    "import numpy as np # linear algebra\n",
    "import pandas as pd # data processing, CSV file I/O (e.g. pd.read_csv)\n",
    "import pylab as plt # help to plot different graphs \n",
    "\n",
    "# Set the global default size of matplotlib figures\n",
    "plt.rc('figure', figsize=(10, 5))\n",
    "\n",
    "# Size of matplotlib figures that contain subplots\n",
    "fizsize_with_subplots = (10, 10)\n",
    "\n",
    "# Size of matplotlib histogram bins\n",
    "bin_size = 10\n",
    "#test.csv\n",
    "#train.csv\n",
    "#submission.csv\n",
    "\n",
    "import seaborn as sns\n",
    "import matplotlib.pyplot as plt\n",
    "from scipy import stats\n",
    "%matplotlib inline\n",
    "\n",
    "\n",
    "# Until fuction: line seperator\n",
    "def print_dashes_and_ln():\n",
    "    print('-'*100, '\\n')\n",
    "    \n",
    "# Formatter to display all float format in 2 decimal format\n",
    "#pd.options.display.float_format = '{:.2f}'.format\n",
    "\n",
    "import warnings\n",
    "warnings.filterwarnings('ignore')"
   ]
  },
  {
   "cell_type": "markdown",
   "metadata": {},
   "source": [
    "### Reading training data with showing first 5 records"
   ]
  },
  {
   "cell_type": "code",
   "execution_count": 10,
   "metadata": {
    "_cell_guid": "79c7e3d0-c299-4dcb-8224-4455121ee9b0",
    "_uuid": "d629ff2d2480ee46fbb7e2d37f6b5fab8052498a"
   },
   "outputs": [
    {
     "data": {
      "text/html": [
       "<div>\n",
       "<style scoped>\n",
       "    .dataframe tbody tr th:only-of-type {\n",
       "        vertical-align: middle;\n",
       "    }\n",
       "\n",
       "    .dataframe tbody tr th {\n",
       "        vertical-align: top;\n",
       "    }\n",
       "\n",
       "    .dataframe thead th {\n",
       "        text-align: right;\n",
       "    }\n",
       "</style>\n",
       "<table border=\"1\" class=\"dataframe\">\n",
       "  <thead>\n",
       "    <tr style=\"text-align: right;\">\n",
       "      <th></th>\n",
       "      <th>patient_id</th>\n",
       "      <th>name_of_drug</th>\n",
       "      <th>use_case_for_drug</th>\n",
       "      <th>review_by_patient</th>\n",
       "      <th>effectiveness_rating</th>\n",
       "      <th>drug_approved_by_UIC</th>\n",
       "      <th>number_of_times_prescribed</th>\n",
       "      <th>base_score</th>\n",
       "    </tr>\n",
       "  </thead>\n",
       "  <tbody>\n",
       "    <tr>\n",
       "      <th>0</th>\n",
       "      <td>206461</td>\n",
       "      <td>Valsartan</td>\n",
       "      <td>Left Ventricular Dysfunction</td>\n",
       "      <td>\"It has no side effect, I take it in combinati...</td>\n",
       "      <td>9</td>\n",
       "      <td>20-May-12</td>\n",
       "      <td>27</td>\n",
       "      <td>8.022969</td>\n",
       "    </tr>\n",
       "    <tr>\n",
       "      <th>1</th>\n",
       "      <td>95260</td>\n",
       "      <td>Guanfacine</td>\n",
       "      <td>ADHD</td>\n",
       "      <td>\"My son is halfway through his fourth week of ...</td>\n",
       "      <td>8</td>\n",
       "      <td>27-Apr-10</td>\n",
       "      <td>192</td>\n",
       "      <td>7.858458</td>\n",
       "    </tr>\n",
       "    <tr>\n",
       "      <th>2</th>\n",
       "      <td>92703</td>\n",
       "      <td>Lybrel</td>\n",
       "      <td>Birth Control</td>\n",
       "      <td>\"I used to take another oral contraceptive, wh...</td>\n",
       "      <td>5</td>\n",
       "      <td>14-Dec-09</td>\n",
       "      <td>17</td>\n",
       "      <td>6.341969</td>\n",
       "    </tr>\n",
       "    <tr>\n",
       "      <th>3</th>\n",
       "      <td>35696</td>\n",
       "      <td>Buprenorphine / naloxone</td>\n",
       "      <td>Opiate Dependence</td>\n",
       "      <td>\"Suboxone has completely turned my life around...</td>\n",
       "      <td>9</td>\n",
       "      <td>27-Nov-16</td>\n",
       "      <td>37</td>\n",
       "      <td>6.590176</td>\n",
       "    </tr>\n",
       "    <tr>\n",
       "      <th>4</th>\n",
       "      <td>155963</td>\n",
       "      <td>Cialis</td>\n",
       "      <td>Benign Prostatic Hyperplasia</td>\n",
       "      <td>\"2nd day on 5mg started to work with rock hard...</td>\n",
       "      <td>2</td>\n",
       "      <td>28-Nov-15</td>\n",
       "      <td>43</td>\n",
       "      <td>6.144782</td>\n",
       "    </tr>\n",
       "  </tbody>\n",
       "</table>\n",
       "</div>"
      ],
      "text/plain": [
       "   patient_id              name_of_drug             use_case_for_drug  \\\n",
       "0      206461                 Valsartan  Left Ventricular Dysfunction   \n",
       "1       95260                Guanfacine                          ADHD   \n",
       "2       92703                    Lybrel                 Birth Control   \n",
       "3       35696  Buprenorphine / naloxone             Opiate Dependence   \n",
       "4      155963                    Cialis  Benign Prostatic Hyperplasia   \n",
       "\n",
       "                                   review_by_patient  effectiveness_rating  \\\n",
       "0  \"It has no side effect, I take it in combinati...                     9   \n",
       "1  \"My son is halfway through his fourth week of ...                     8   \n",
       "2  \"I used to take another oral contraceptive, wh...                     5   \n",
       "3  \"Suboxone has completely turned my life around...                     9   \n",
       "4  \"2nd day on 5mg started to work with rock hard...                     2   \n",
       "\n",
       "  drug_approved_by_UIC  number_of_times_prescribed  base_score  \n",
       "0            20-May-12                          27    8.022969  \n",
       "1            27-Apr-10                         192    7.858458  \n",
       "2            14-Dec-09                          17    6.341969  \n",
       "3            27-Nov-16                          37    6.590176  \n",
       "4            28-Nov-15                          43    6.144782  "
      ]
     },
     "execution_count": 10,
     "metadata": {},
     "output_type": "execute_result"
    }
   ],
   "source": [
    "df_train = pd.read_csv('dataset/train.csv')\n",
    "df_train_copy = df_train.copy()\n",
    "df_train_copy.head()"
   ]
  },
  {
   "cell_type": "markdown",
   "metadata": {},
   "source": [
    "### Fetching last 5 records from training data"
   ]
  },
  {
   "cell_type": "code",
   "execution_count": 11,
   "metadata": {},
   "outputs": [
    {
     "data": {
      "text/html": [
       "<div>\n",
       "<style scoped>\n",
       "    .dataframe tbody tr th:only-of-type {\n",
       "        vertical-align: middle;\n",
       "    }\n",
       "\n",
       "    .dataframe tbody tr th {\n",
       "        vertical-align: top;\n",
       "    }\n",
       "\n",
       "    .dataframe thead th {\n",
       "        text-align: right;\n",
       "    }\n",
       "</style>\n",
       "<table border=\"1\" class=\"dataframe\">\n",
       "  <thead>\n",
       "    <tr style=\"text-align: right;\">\n",
       "      <th></th>\n",
       "      <th>patient_id</th>\n",
       "      <th>name_of_drug</th>\n",
       "      <th>use_case_for_drug</th>\n",
       "      <th>review_by_patient</th>\n",
       "      <th>effectiveness_rating</th>\n",
       "      <th>drug_approved_by_UIC</th>\n",
       "      <th>number_of_times_prescribed</th>\n",
       "      <th>base_score</th>\n",
       "    </tr>\n",
       "  </thead>\n",
       "  <tbody>\n",
       "    <tr>\n",
       "      <th>32160</th>\n",
       "      <td>183202</td>\n",
       "      <td>Cymbalta</td>\n",
       "      <td>Anxiety</td>\n",
       "      <td>\"I have been taking Cymbalta for 15 months now...</td>\n",
       "      <td>9</td>\n",
       "      <td>10-Jun-13</td>\n",
       "      <td>89</td>\n",
       "      <td>6.963020</td>\n",
       "    </tr>\n",
       "    <tr>\n",
       "      <th>32161</th>\n",
       "      <td>109111</td>\n",
       "      <td>Nexplanon</td>\n",
       "      <td>Birth Control</td>\n",
       "      <td>\"I have had the Nexplanon since Dec. 27, 2016 ...</td>\n",
       "      <td>6</td>\n",
       "      <td>6-Apr-17</td>\n",
       "      <td>0</td>\n",
       "      <td>0.899076</td>\n",
       "    </tr>\n",
       "    <tr>\n",
       "      <th>32162</th>\n",
       "      <td>121154</td>\n",
       "      <td>Venlafaxine</td>\n",
       "      <td>Panic Disorde</td>\n",
       "      <td>\"Had panic attacks and social anxiety starting...</td>\n",
       "      <td>9</td>\n",
       "      <td>10-Nov-16</td>\n",
       "      <td>25</td>\n",
       "      <td>6.241812</td>\n",
       "    </tr>\n",
       "    <tr>\n",
       "      <th>32163</th>\n",
       "      <td>45410</td>\n",
       "      <td>Fluoxetine</td>\n",
       "      <td>Obsessive Compulsive Disorde</td>\n",
       "      <td>\"I have been off Prozac for about 4 weeks now....</td>\n",
       "      <td>8</td>\n",
       "      <td>21-Jan-15</td>\n",
       "      <td>22</td>\n",
       "      <td>7.940428</td>\n",
       "    </tr>\n",
       "    <tr>\n",
       "      <th>32164</th>\n",
       "      <td>187382</td>\n",
       "      <td>Orencia</td>\n",
       "      <td>Rheumatoid Arthritis</td>\n",
       "      <td>\"Limited improvement after 4 months, developed...</td>\n",
       "      <td>2</td>\n",
       "      <td>15-Mar-14</td>\n",
       "      <td>35</td>\n",
       "      <td>8.205393</td>\n",
       "    </tr>\n",
       "  </tbody>\n",
       "</table>\n",
       "</div>"
      ],
      "text/plain": [
       "       patient_id name_of_drug             use_case_for_drug  \\\n",
       "32160      183202     Cymbalta                       Anxiety   \n",
       "32161      109111    Nexplanon                 Birth Control   \n",
       "32162      121154  Venlafaxine                 Panic Disorde   \n",
       "32163       45410   Fluoxetine  Obsessive Compulsive Disorde   \n",
       "32164      187382      Orencia          Rheumatoid Arthritis   \n",
       "\n",
       "                                       review_by_patient  \\\n",
       "32160  \"I have been taking Cymbalta for 15 months now...   \n",
       "32161  \"I have had the Nexplanon since Dec. 27, 2016 ...   \n",
       "32162  \"Had panic attacks and social anxiety starting...   \n",
       "32163  \"I have been off Prozac for about 4 weeks now....   \n",
       "32164  \"Limited improvement after 4 months, developed...   \n",
       "\n",
       "       effectiveness_rating drug_approved_by_UIC  number_of_times_prescribed  \\\n",
       "32160                     9            10-Jun-13                          89   \n",
       "32161                     6             6-Apr-17                           0   \n",
       "32162                     9            10-Nov-16                          25   \n",
       "32163                     8            21-Jan-15                          22   \n",
       "32164                     2            15-Mar-14                          35   \n",
       "\n",
       "       base_score  \n",
       "32160    6.963020  \n",
       "32161    0.899076  \n",
       "32162    6.241812  \n",
       "32163    7.940428  \n",
       "32164    8.205393  "
      ]
     },
     "execution_count": 11,
     "metadata": {},
     "output_type": "execute_result"
    }
   ],
   "source": [
    "df_train.tail()"
   ]
  },
  {
   "cell_type": "markdown",
   "metadata": {},
   "source": [
    "### Checking datatypes of columns"
   ]
  },
  {
   "cell_type": "code",
   "execution_count": 12,
   "metadata": {},
   "outputs": [
    {
     "data": {
      "text/plain": [
       "patient_id                      int64\n",
       "name_of_drug                   object\n",
       "use_case_for_drug              object\n",
       "review_by_patient              object\n",
       "effectiveness_rating            int64\n",
       "drug_approved_by_UIC           object\n",
       "number_of_times_prescribed      int64\n",
       "base_score                    float64\n",
       "dtype: object"
      ]
     },
     "execution_count": 12,
     "metadata": {},
     "output_type": "execute_result"
    }
   ],
   "source": [
    "df_train.dtypes"
   ]
  },
  {
   "cell_type": "markdown",
   "metadata": {},
   "source": [
    "### Get some basic information of the DataFrame:"
   ]
  },
  {
   "cell_type": "code",
   "execution_count": 13,
   "metadata": {},
   "outputs": [
    {
     "name": "stdout",
     "output_type": "stream",
     "text": [
      "<class 'pandas.core.frame.DataFrame'>\n",
      "RangeIndex: 32165 entries, 0 to 32164\n",
      "Data columns (total 8 columns):\n",
      "patient_id                    32165 non-null int64\n",
      "name_of_drug                  32165 non-null object\n",
      "use_case_for_drug             32165 non-null object\n",
      "review_by_patient             32165 non-null object\n",
      "effectiveness_rating          32165 non-null int64\n",
      "drug_approved_by_UIC          32165 non-null object\n",
      "number_of_times_prescribed    32165 non-null int64\n",
      "base_score                    32165 non-null float64\n",
      "dtypes: float64(1), int64(3), object(4)\n",
      "memory usage: 2.0+ MB\n"
     ]
    }
   ],
   "source": [
    "df_train.info()"
   ]
  },
  {
   "cell_type": "markdown",
   "metadata": {},
   "source": [
    "There are not any missing values because each column consists of 32165 rows."
   ]
  },
  {
   "cell_type": "markdown",
   "metadata": {},
   "source": [
    "Converting column which are in date format but is of other datatype. "
   ]
  },
  {
   "cell_type": "code",
   "execution_count": 14,
   "metadata": {},
   "outputs": [
    {
     "name": "stdout",
     "output_type": "stream",
     "text": [
      "<class 'pandas.core.frame.DataFrame'>\n",
      "RangeIndex: 32165 entries, 0 to 32164\n",
      "Data columns (total 8 columns):\n",
      "patient_id                    32165 non-null int64\n",
      "name_of_drug                  32165 non-null object\n",
      "use_case_for_drug             32165 non-null object\n",
      "review_by_patient             32165 non-null object\n",
      "effectiveness_rating          32165 non-null int64\n",
      "drug_approved_by_UIC          32165 non-null datetime64[ns]\n",
      "number_of_times_prescribed    32165 non-null int64\n",
      "base_score                    32165 non-null float64\n",
      "dtypes: datetime64[ns](1), float64(1), int64(3), object(3)\n",
      "memory usage: 2.0+ MB\n"
     ]
    }
   ],
   "source": [
    "df_train['drug_approved_by_UIC'] =  pd.to_datetime(df_train['drug_approved_by_UIC'], infer_datetime_format=True)\n",
    "#df_train.info()\n",
    "df_train['day'] = df_train['drug_approved_by_UIC'].dt.day\n",
    "df_train['year'] = df_train['drug_approved_by_UIC'].dt.year\n",
    "df_train['month'] = df_train['drug_approved_by_UIC'].dt.month"
   ]
  },
  {
   "cell_type": "code",
   "execution_count": 16,
   "metadata": {},
   "outputs": [
    {
     "data": {
      "text/plain": [
       "'\"I used to take another oral contraceptive, which had 21 pill cycle, and was very happy- very light periods, max 5 days, no other side effects. But it contained hormone gestodene, which is not available in US, so I switched to Lybrel, because the ingredients are similar. When my other pills ended, I started Lybrel immediately, on my first day of period, as the instructions said. And the period lasted for two weeks. When taking the second pack- same two weeks. And now, with third pack things got even worse- my third period lasted for two weeks and now it&#039;s the end of the third week- I still have daily brown discharge.\\r\\nThe positive side is that I didn&#039;t have any other side effects. The idea of being period free was so tempting... Alas.\"'"
      ]
     },
     "execution_count": 16,
     "metadata": {},
     "output_type": "execute_result"
    }
   ],
   "source": [
    "from textblob import TextBlob\n",
    "from tqdm import tqdm\n",
    "reviews = df_all['review_clean']\n",
    "\n",
    "Predict_Sentiment = []\n",
    "for review in tqdm(reviews):\n",
    "    blob = TextBlob(review)\n",
    "    Predict_Sentiment += [blob.sentiment.polarity]\n",
    "df_all[\"Predict_Sentiment\"] = Predict_Sentiment\n",
    "df_all.head()\n",
    "\n",
    "\n",
    "df_train['review_by_patient'][2]"
   ]
  },
  {
   "cell_type": "code",
   "execution_count": null,
   "metadata": {},
   "outputs": [],
   "source": [
    "np.corrcoef(df_all[\"Predict_Sentiment\"], df_all[\"rating\"])"
   ]
  },
  {
   "cell_type": "code",
   "execution_count": null,
   "metadata": {},
   "outputs": [],
   "source": [
    "np.corrcoef(df_all[\"Predict_Sentiment\"], df_all[\"sentiment\"])"
   ]
  },
  {
   "cell_type": "code",
   "execution_count": null,
   "metadata": {},
   "outputs": [],
   "source": []
  },
  {
   "cell_type": "code",
   "execution_count": 7,
   "metadata": {},
   "outputs": [],
   "source": [
    "#Delete serial number because that is not need for serial number and telephone\n",
    "del df_train['use_case_for_drug']\n",
    "del df_train['review_by_patient']"
   ]
  },
  {
   "cell_type": "code",
   "execution_count": 132,
   "metadata": {},
   "outputs": [
    {
     "name": "stdout",
     "output_type": "stream",
     "text": [
      " Shape of the dataframe = (32165, 6)\n",
      "---------------------------------------------------------------------------------------------------- \n",
      "\n",
      " Total number of rows in the dataset =  32165\n",
      "---------------------------------------------------------------------------------------------------- \n",
      "\n"
     ]
    }
   ],
   "source": [
    "# getting total number of rows and column in the dataframe\n",
    "def shape_of_dataframe(df_train):\n",
    "    print(f\" Shape of the dataframe = {df_train.shape}\"); print_dashes_and_ln();\n",
    "    totalrows=df_train.shape[0]\n",
    "    print(f\" Total number of rows in the dataset =  {totalrows}\"); print_dashes_and_ln();\n",
    "shape_of_dataframe(df_train)"
   ]
  },
  {
   "cell_type": "markdown",
   "metadata": {},
   "source": [
    "Let's plots some basic figure to get basic idea of data."
   ]
  },
  {
   "cell_type": "code",
   "execution_count": 133,
   "metadata": {},
   "outputs": [
    {
     "data": {
      "image/png": "[encoded data removed]",
      "text/plain": [
       "<Figure size 864x648 with 1 Axes>"
      ]
     },
     "metadata": {
      "needs_background": "light"
     },
     "output_type": "display_data"
    },
    {
     "data": {
      "image/png": "[encoded data removed]",
      "text/plain": [
       "<Figure size 432x288 with 1 Axes>"
      ]
     },
     "metadata": {
      "needs_background": "light"
     },
     "output_type": "display_data"
    }
   ],
   "source": [
    "plt.subplots(figsize=(12,9))\n",
    "sns.distplot(df_train['base_score'], fit=stats.norm)\n",
    "\n",
    "# Get the fitted parameters used by the function\n",
    "\n",
    "(mu, sigma) = stats.norm.fit(df_train['base_score'])\n",
    "\n",
    "# plot with the distribution\n",
    "\n",
    "plt.legend(['Normal dist. ($\\mu=$ {:.2f} and $\\sigma=$ {:.2f} )'.format(mu, sigma)], loc='best')\n",
    "plt.ylabel('Frequency')\n",
    "\n",
    "#Probablity plot\n",
    "\n",
    "fig = plt.figure()\n",
    "stats.probplot(df_train['base_score'], plot=plt)\n",
    "plt.show()"
   ]
  },
  {
   "cell_type": "code",
   "execution_count": 134,
   "metadata": {},
   "outputs": [
    {
     "data": {
      "image/png": "[encoded data removed]",
      "text/plain": [
       "<Figure size 864x648 with 1 Axes>"
      ]
     },
     "metadata": {
      "needs_background": "light"
     },
     "output_type": "display_data"
    },
    {
     "data": {
      "image/png": "[encoded data removed]",
      "text/plain": [
       "<Figure size 432x288 with 1 Axes>"
      ]
     },
     "metadata": {
      "needs_background": "light"
     },
     "output_type": "display_data"
    }
   ],
   "source": [
    "#we use log function which is in numpy\n",
    "df_train['base_score'] = np.log1p(df_train['base_score'])\n",
    "\n",
    "#Check again for more normal distribution\n",
    "\n",
    "plt.subplots(figsize=(12,9))\n",
    "sns.distplot(df_train['base_score'], fit=stats.norm)\n",
    "\n",
    "# Get the fitted parameters used by the function\n",
    "\n",
    "(mu, sigma) = stats.norm.fit(df_train['base_score'])\n",
    "\n",
    "# plot with the distribution\n",
    "\n",
    "plt.legend(['Normal dist. ($\\mu=$ {:.2f} and $\\sigma=$ {:.2f} )'.format(mu, sigma)], loc='best')\n",
    "plt.ylabel('Frequency')\n",
    "\n",
    "#Probablity plot\n",
    "\n",
    "fig = plt.figure()\n",
    "stats.probplot(df_train['base_score'], plot=plt)\n",
    "plt.show()\n"
   ]
  },
  {
   "cell_type": "markdown",
   "metadata": {},
   "source": [
    "#Let's check if the data set has any missing values. "
   ]
  },
  {
   "cell_type": "code",
   "execution_count": 135,
   "metadata": {},
   "outputs": [
    {
     "name": "stdout",
     "output_type": "stream",
     "text": [
      " Non Numerical Columns of the dataframe = Index(['name_of_drug'], dtype='object')\n",
      "---------------------------------------------------------------------------------------------------- \n",
      "\n",
      " Numerical Columns of the dataframe = Index(['patient_id', 'effectiveness_rating', 'number_of_times_prescribed',\n",
      "       'base_score'],\n",
      "      dtype='object')\n",
      "---------------------------------------------------------------------------------------------------- \n",
      "\n"
     ]
    }
   ],
   "source": [
    "# Columns by Data Type\n",
    "non_numeric_columns = df_train.select_dtypes(['object']).columns\n",
    "numeric_columns = df_train.select_dtypes(['number']).columns\n",
    "print(f\" Non Numerical Columns of the dataframe = {non_numeric_columns}\"); print_dashes_and_ln();\n",
    "print(f\" Numerical Columns of the dataframe = {numeric_columns}\"); print_dashes_and_ln();"
   ]
  },
  {
   "cell_type": "markdown",
   "metadata": {},
   "source": [
    "Now, there is no any missing values. Encoding str to int\n"
   ]
  },
  {
   "cell_type": "code",
   "execution_count": 136,
   "metadata": {},
   "outputs": [
    {
     "data": {
      "text/plain": [
       "2220"
      ]
     },
     "execution_count": 136,
     "metadata": {},
     "output_type": "execute_result"
    }
   ],
   "source": [
    "cols = ('name_of_drug')\n",
    "df_train['name_of_drug'].unique().size"
   ]
  },
  {
   "cell_type": "code",
   "execution_count": 137,
   "metadata": {},
   "outputs": [],
   "source": [
    "#from sklearn.preprocessing import LabelEncoder\n",
    "#for c in cols:\n",
    "    #lbl = LabelEncoder() \n",
    "    #lbl.fit(list(df_train[c].values)) \n",
    "    #df_train[c] = lbl.transform(list(df_train[c].values))"
   ]
  },
  {
   "cell_type": "code",
   "execution_count": 138,
   "metadata": {},
   "outputs": [
    {
     "name": "stdout",
     "output_type": "stream",
     "text": [
      "<class 'pandas.core.frame.DataFrame'>\n",
      "RangeIndex: 32165 entries, 0 to 32164\n",
      "Data columns (total 6 columns):\n",
      "patient_id                    32165 non-null int64\n",
      "name_of_drug                  32165 non-null object\n",
      "effectiveness_rating          32165 non-null int64\n",
      "drug_approved_by_UIC          32165 non-null datetime64[ns]\n",
      "number_of_times_prescribed    32165 non-null int64\n",
      "base_score                    32165 non-null float64\n",
      "dtypes: datetime64[ns](1), float64(1), int64(3), object(1)\n",
      "memory usage: 1.5+ MB\n"
     ]
    }
   ],
   "source": [
    "df_train.info()"
   ]
  },
  {
   "cell_type": "markdown",
   "metadata": {},
   "source": [
    "Change data type from float to int "
   ]
  },
  {
   "cell_type": "code",
   "execution_count": 139,
   "metadata": {},
   "outputs": [],
   "source": [
    "#df_train['Saving Account'] = df_train['Saving Account'].astype(int)"
   ]
  },
  {
   "cell_type": "code",
   "execution_count": 140,
   "metadata": {},
   "outputs": [],
   "source": [
    "#df_train['investment'] = df_train['investment'] * 10\n",
    "#df_train['investment'] = df_train['investment'].astype(int)"
   ]
  },
  {
   "cell_type": "code",
   "execution_count": 141,
   "metadata": {},
   "outputs": [
    {
     "data": {
      "text/plain": [
       "<matplotlib.axes._subplots.AxesSubplot at 0x7fb84d7a9358>"
      ]
     },
     "execution_count": 141,
     "metadata": {},
     "output_type": "execute_result"
    },
    {
     "data": {
      "image/png": "[encoded data removed]",
      "text/plain": [
       "<Figure size 1440x648 with 2 Axes>"
      ]
     },
     "metadata": {
      "needs_background": "light"
     },
     "output_type": "display_data"
    }
   ],
   "source": [
    "\n",
    "\n",
    "#Coralation plot\n",
    "corr = df_train.corr()\n",
    "plt.subplots(figsize=(20,9))\n",
    "sns.heatmap(corr, annot=True)\n",
    "\n"
   ]
  },
  {
   "cell_type": "markdown",
   "metadata": {},
   "source": [
    "\n",
    "Top 10% Corralation train attributes with credit amount"
   ]
  },
  {
   "cell_type": "code",
   "execution_count": 142,
   "metadata": {},
   "outputs": [
    {
     "data": {
      "image/png": "[encoded data removed]",
      "text/plain": [
       "<Figure size 864x576 with 2 Axes>"
      ]
     },
     "metadata": {
      "needs_background": "light"
     },
     "output_type": "display_data"
    }
   ],
   "source": [
    "top_feature = corr.index[abs(corr['base_score']>0.1)]\n",
    "plt.subplots(figsize=(12, 8))\n",
    "top_corr = df_train[top_feature].corr()\n",
    "sns.heatmap(top_corr, annot=True)\n",
    "plt.show()"
   ]
  },
  {
   "cell_type": "markdown",
   "metadata": {},
   "source": [
    "Here duration_month is highly correlated with target feature of credit amount by 64%.\n",
    "So, more duration month then more credit amount.\n"
   ]
  },
  {
   "cell_type": "code",
   "execution_count": 143,
   "metadata": {},
   "outputs": [],
   "source": [
    "def clean_data(df, drop_serial_number):\n",
    "    print(df.shape)\n",
    "    del df['use_case_for_drug']\n",
    "    del df['review_by_patient']\n",
    "    del df['name_of_drug']\n",
    "    del df['drug_approved_by_UIC']\n",
    "    df = pd.get_dummies(df)\n",
    "    if drop_serial_number:\n",
    "        df = df.drop(['patient_id'], axis=1)\n",
    "\n",
    "    return df"
   ]
  },
  {
   "cell_type": "code",
   "execution_count": 144,
   "metadata": {},
   "outputs": [
    {
     "name": "stdout",
     "output_type": "stream",
     "text": [
      "(32165, 8)\n"
     ]
    }
   ],
   "source": [
    "df_train = clean_data(df_train_copy,drop_serial_number=True)\n",
    "#df_train['base_score'] = np.log1p(df_train['base_score'])\n"
   ]
  },
  {
   "cell_type": "code",
   "execution_count": 145,
   "metadata": {},
   "outputs": [
    {
     "name": "stdout",
     "output_type": "stream",
     "text": [
      "<class 'pandas.core.frame.DataFrame'>\n",
      "RangeIndex: 32165 entries, 0 to 32164\n",
      "Data columns (total 3 columns):\n",
      "effectiveness_rating          32165 non-null int64\n",
      "number_of_times_prescribed    32165 non-null int64\n",
      "base_score                    32165 non-null float64\n",
      "dtypes: float64(1), int64(2)\n",
      "memory usage: 753.9 KB\n"
     ]
    }
   ],
   "source": [
    "df_train.info()"
   ]
  },
  {
   "cell_type": "markdown",
   "metadata": {},
   "source": [
    "\n",
    "### Prepraring data for prediction"
   ]
  },
  {
   "cell_type": "code",
   "execution_count": 146,
   "metadata": {},
   "outputs": [],
   "source": [
    "#Take targate variable into y\n",
    "y = df_train['base_score']\n",
    "#Delete the base_score\n",
    "del df_train['base_score']"
   ]
  },
  {
   "cell_type": "code",
   "execution_count": 147,
   "metadata": {},
   "outputs": [],
   "source": [
    "#Take their values in X and y\n",
    "X = df_train.values\n",
    "y = y.values"
   ]
  },
  {
   "cell_type": "code",
   "execution_count": 148,
   "metadata": {},
   "outputs": [],
   "source": [
    "# Split data into train and test formate\n",
    "from sklearn.model_selection import train_test_split\n",
    "X_train, X_test, y_train, y_test = train_test_split(X, y, test_size=0.2, random_state=0)"
   ]
  },
  {
   "cell_type": "markdown",
   "metadata": {},
   "source": [
    "# XGBOOST ALGO: PREPARE FOR SUBMISSION\n",
    "Create a DataFrame by combining the index from the test data with the output of predictions, then write the results to the output:\n"
   ]
  },
  {
   "cell_type": "code",
   "execution_count": 149,
   "metadata": {},
   "outputs": [],
   "source": [
    "import xgboost as xgb\n",
    "from sklearn.metrics import mean_squared_error\n",
    "import pandas as pd\n",
    "import numpy as np"
   ]
  },
  {
   "cell_type": "code",
   "execution_count": 150,
   "metadata": {},
   "outputs": [],
   "source": [
    "df_test = pd.read_csv('dataset/test.csv')"
   ]
  },
  {
   "cell_type": "code",
   "execution_count": 151,
   "metadata": {},
   "outputs": [
    {
     "name": "stdout",
     "output_type": "stream",
     "text": [
      "(10760, 7)\n"
     ]
    }
   ],
   "source": [
    "df_test = clean_data(df_test,drop_serial_number=False)"
   ]
  },
  {
   "cell_type": "code",
   "execution_count": 152,
   "metadata": {},
   "outputs": [],
   "source": [
    "test_data = df_test.values"
   ]
  },
  {
   "cell_type": "code",
   "execution_count": 153,
   "metadata": {},
   "outputs": [],
   "source": [
    "data_dmatrix = xgb.DMatrix(data=df_test,label=y)"
   ]
  },
  {
   "cell_type": "code",
   "execution_count": 154,
   "metadata": {},
   "outputs": [],
   "source": [
    "xg_reg = xgb.XGBRegressor(objective ='reg:linear',colsample_bytree=0.9, gamma=0.2, \n",
    "                             learning_rate=0.1, max_depth=7, \n",
    "                             min_child_weight=1.5, n_estimators=1000,\n",
    "                             reg_alpha=0.9, reg_lambda=0.6,\n",
    "                             subsample=0.8,seed=42, silent=1,\n",
    "                             random_state =1)"
   ]
  },
  {
   "cell_type": "code",
   "execution_count": 155,
   "metadata": {},
   "outputs": [],
   "source": [
    "xg_reg.fit(X_train,y_train)\n",
    "\n",
    "preds = xg_reg.predict(X_test)"
   ]
  },
  {
   "cell_type": "code",
   "execution_count": 156,
   "metadata": {},
   "outputs": [
    {
     "name": "stdout",
     "output_type": "stream",
     "text": [
      "RMSE: 0.256343\n"
     ]
    }
   ],
   "source": [
    "rmse = np.sqrt(mean_squared_error(y_test, preds))\n",
    "print(\"RMSE: %f\" % (rmse))"
   ]
  },
  {
   "cell_type": "code",
   "execution_count": 157,
   "metadata": {},
   "outputs": [],
   "source": [
    "#params = {\"objective\":\"reg:linear\",'colsample_bytree': 0.2,'learning_rate': 0.1,\n",
    " #               'max_depth': 5, 'alpha': 10}\n",
    "params = {'objective':'reg:linear','colsample_bytree':0.9, 'gamma':0.2, \n",
    "                             'learning_rate':0.1, 'max_depth':7, \n",
    "                             'min_child_weight':1.5, 'n_estimators':1000,\n",
    "                             'reg_alpha':0.9, 'reg_lambda':0.6,\n",
    "                             'subsample':0.8,'seed':42, 'silent':1,\n",
    "                             'random_state':1}\n",
    "cv_results = xgb.cv(dtrain=data_dmatrix, params=params, nfold=3,\n",
    "                    num_boost_round=50,early_stopping_rounds=10,metrics=\"rmse\", as_pandas=True, seed=23)\n"
   ]
  },
  {
   "cell_type": "code",
   "execution_count": 158,
   "metadata": {},
   "outputs": [
    {
     "data": {
      "text/html": [
       "<div>\n",
       "<style scoped>\n",
       "    .dataframe tbody tr th:only-of-type {\n",
       "        vertical-align: middle;\n",
       "    }\n",
       "\n",
       "    .dataframe tbody tr th {\n",
       "        vertical-align: top;\n",
       "    }\n",
       "\n",
       "    .dataframe thead th {\n",
       "        text-align: right;\n",
       "    }\n",
       "</style>\n",
       "<table border=\"1\" class=\"dataframe\">\n",
       "  <thead>\n",
       "    <tr style=\"text-align: right;\">\n",
       "      <th></th>\n",
       "      <th>train-rmse-mean</th>\n",
       "      <th>train-rmse-std</th>\n",
       "      <th>test-rmse-mean</th>\n",
       "      <th>test-rmse-std</th>\n",
       "    </tr>\n",
       "  </thead>\n",
       "  <tbody>\n",
       "    <tr>\n",
       "      <th>0</th>\n",
       "      <td>5.769163</td>\n",
       "      <td>0.007374</td>\n",
       "      <td>5.769191</td>\n",
       "      <td>0.015369</td>\n",
       "    </tr>\n",
       "    <tr>\n",
       "      <th>1</th>\n",
       "      <td>5.237003</td>\n",
       "      <td>0.007058</td>\n",
       "      <td>5.237030</td>\n",
       "      <td>0.015577</td>\n",
       "    </tr>\n",
       "    <tr>\n",
       "      <th>2</th>\n",
       "      <td>4.762219</td>\n",
       "      <td>0.006771</td>\n",
       "      <td>4.762251</td>\n",
       "      <td>0.015679</td>\n",
       "    </tr>\n",
       "    <tr>\n",
       "      <th>3</th>\n",
       "      <td>4.340428</td>\n",
       "      <td>0.006447</td>\n",
       "      <td>4.340459</td>\n",
       "      <td>0.015726</td>\n",
       "    </tr>\n",
       "    <tr>\n",
       "      <th>4</th>\n",
       "      <td>3.965825</td>\n",
       "      <td>0.005873</td>\n",
       "      <td>3.966092</td>\n",
       "      <td>0.016366</td>\n",
       "    </tr>\n",
       "    <tr>\n",
       "      <th>5</th>\n",
       "      <td>3.634136</td>\n",
       "      <td>0.005779</td>\n",
       "      <td>3.634548</td>\n",
       "      <td>0.016151</td>\n",
       "    </tr>\n",
       "    <tr>\n",
       "      <th>6</th>\n",
       "      <td>3.340857</td>\n",
       "      <td>0.004708</td>\n",
       "      <td>3.341839</td>\n",
       "      <td>0.016381</td>\n",
       "    </tr>\n",
       "    <tr>\n",
       "      <th>7</th>\n",
       "      <td>3.083900</td>\n",
       "      <td>0.003909</td>\n",
       "      <td>3.085079</td>\n",
       "      <td>0.016570</td>\n",
       "    </tr>\n",
       "    <tr>\n",
       "      <th>8</th>\n",
       "      <td>2.858389</td>\n",
       "      <td>0.003693</td>\n",
       "      <td>2.859875</td>\n",
       "      <td>0.016206</td>\n",
       "    </tr>\n",
       "    <tr>\n",
       "      <th>9</th>\n",
       "      <td>2.661413</td>\n",
       "      <td>0.003534</td>\n",
       "      <td>2.664024</td>\n",
       "      <td>0.016485</td>\n",
       "    </tr>\n",
       "    <tr>\n",
       "      <th>10</th>\n",
       "      <td>2.489751</td>\n",
       "      <td>0.003438</td>\n",
       "      <td>2.493339</td>\n",
       "      <td>0.015781</td>\n",
       "    </tr>\n",
       "    <tr>\n",
       "      <th>11</th>\n",
       "      <td>2.342115</td>\n",
       "      <td>0.002726</td>\n",
       "      <td>2.347471</td>\n",
       "      <td>0.015088</td>\n",
       "    </tr>\n",
       "    <tr>\n",
       "      <th>12</th>\n",
       "      <td>2.213757</td>\n",
       "      <td>0.001996</td>\n",
       "      <td>2.221667</td>\n",
       "      <td>0.015153</td>\n",
       "    </tr>\n",
       "    <tr>\n",
       "      <th>13</th>\n",
       "      <td>2.104043</td>\n",
       "      <td>0.003174</td>\n",
       "      <td>2.114068</td>\n",
       "      <td>0.014543</td>\n",
       "    </tr>\n",
       "    <tr>\n",
       "      <th>14</th>\n",
       "      <td>2.010784</td>\n",
       "      <td>0.003493</td>\n",
       "      <td>2.023166</td>\n",
       "      <td>0.013693</td>\n",
       "    </tr>\n",
       "    <tr>\n",
       "      <th>15</th>\n",
       "      <td>1.931385</td>\n",
       "      <td>0.003125</td>\n",
       "      <td>1.945972</td>\n",
       "      <td>0.012721</td>\n",
       "    </tr>\n",
       "    <tr>\n",
       "      <th>16</th>\n",
       "      <td>1.863917</td>\n",
       "      <td>0.003045</td>\n",
       "      <td>1.881049</td>\n",
       "      <td>0.011651</td>\n",
       "    </tr>\n",
       "    <tr>\n",
       "      <th>17</th>\n",
       "      <td>1.807183</td>\n",
       "      <td>0.003193</td>\n",
       "      <td>1.827438</td>\n",
       "      <td>0.010692</td>\n",
       "    </tr>\n",
       "    <tr>\n",
       "      <th>18</th>\n",
       "      <td>1.759111</td>\n",
       "      <td>0.002670</td>\n",
       "      <td>1.782260</td>\n",
       "      <td>0.010152</td>\n",
       "    </tr>\n",
       "    <tr>\n",
       "      <th>19</th>\n",
       "      <td>1.717605</td>\n",
       "      <td>0.003769</td>\n",
       "      <td>1.745272</td>\n",
       "      <td>0.009174</td>\n",
       "    </tr>\n",
       "    <tr>\n",
       "      <th>20</th>\n",
       "      <td>1.683697</td>\n",
       "      <td>0.004237</td>\n",
       "      <td>1.713724</td>\n",
       "      <td>0.008538</td>\n",
       "    </tr>\n",
       "    <tr>\n",
       "      <th>21</th>\n",
       "      <td>1.655710</td>\n",
       "      <td>0.004237</td>\n",
       "      <td>1.688471</td>\n",
       "      <td>0.008004</td>\n",
       "    </tr>\n",
       "    <tr>\n",
       "      <th>22</th>\n",
       "      <td>1.632125</td>\n",
       "      <td>0.004612</td>\n",
       "      <td>1.667783</td>\n",
       "      <td>0.007247</td>\n",
       "    </tr>\n",
       "    <tr>\n",
       "      <th>23</th>\n",
       "      <td>1.612713</td>\n",
       "      <td>0.005172</td>\n",
       "      <td>1.650624</td>\n",
       "      <td>0.007197</td>\n",
       "    </tr>\n",
       "    <tr>\n",
       "      <th>24</th>\n",
       "      <td>1.597138</td>\n",
       "      <td>0.004856</td>\n",
       "      <td>1.636761</td>\n",
       "      <td>0.006890</td>\n",
       "    </tr>\n",
       "    <tr>\n",
       "      <th>25</th>\n",
       "      <td>1.582657</td>\n",
       "      <td>0.005023</td>\n",
       "      <td>1.625435</td>\n",
       "      <td>0.006098</td>\n",
       "    </tr>\n",
       "    <tr>\n",
       "      <th>26</th>\n",
       "      <td>1.569909</td>\n",
       "      <td>0.003895</td>\n",
       "      <td>1.616079</td>\n",
       "      <td>0.006336</td>\n",
       "    </tr>\n",
       "    <tr>\n",
       "      <th>27</th>\n",
       "      <td>1.559570</td>\n",
       "      <td>0.003503</td>\n",
       "      <td>1.608698</td>\n",
       "      <td>0.005755</td>\n",
       "    </tr>\n",
       "    <tr>\n",
       "      <th>28</th>\n",
       "      <td>1.551248</td>\n",
       "      <td>0.003227</td>\n",
       "      <td>1.602900</td>\n",
       "      <td>0.005453</td>\n",
       "    </tr>\n",
       "    <tr>\n",
       "      <th>29</th>\n",
       "      <td>1.543072</td>\n",
       "      <td>0.003440</td>\n",
       "      <td>1.597962</td>\n",
       "      <td>0.004627</td>\n",
       "    </tr>\n",
       "    <tr>\n",
       "      <th>30</th>\n",
       "      <td>1.536428</td>\n",
       "      <td>0.002508</td>\n",
       "      <td>1.594171</td>\n",
       "      <td>0.004737</td>\n",
       "    </tr>\n",
       "    <tr>\n",
       "      <th>31</th>\n",
       "      <td>1.531331</td>\n",
       "      <td>0.002439</td>\n",
       "      <td>1.591280</td>\n",
       "      <td>0.004563</td>\n",
       "    </tr>\n",
       "    <tr>\n",
       "      <th>32</th>\n",
       "      <td>1.526160</td>\n",
       "      <td>0.003277</td>\n",
       "      <td>1.588441</td>\n",
       "      <td>0.004670</td>\n",
       "    </tr>\n",
       "    <tr>\n",
       "      <th>33</th>\n",
       "      <td>1.520919</td>\n",
       "      <td>0.002501</td>\n",
       "      <td>1.586077</td>\n",
       "      <td>0.004992</td>\n",
       "    </tr>\n",
       "    <tr>\n",
       "      <th>34</th>\n",
       "      <td>1.515109</td>\n",
       "      <td>0.002266</td>\n",
       "      <td>1.584712</td>\n",
       "      <td>0.004995</td>\n",
       "    </tr>\n",
       "    <tr>\n",
       "      <th>35</th>\n",
       "      <td>1.511272</td>\n",
       "      <td>0.002388</td>\n",
       "      <td>1.583265</td>\n",
       "      <td>0.004872</td>\n",
       "    </tr>\n",
       "    <tr>\n",
       "      <th>36</th>\n",
       "      <td>1.507142</td>\n",
       "      <td>0.003039</td>\n",
       "      <td>1.582397</td>\n",
       "      <td>0.004957</td>\n",
       "    </tr>\n",
       "    <tr>\n",
       "      <th>37</th>\n",
       "      <td>1.502478</td>\n",
       "      <td>0.003943</td>\n",
       "      <td>1.581575</td>\n",
       "      <td>0.005180</td>\n",
       "    </tr>\n",
       "    <tr>\n",
       "      <th>38</th>\n",
       "      <td>1.499536</td>\n",
       "      <td>0.003547</td>\n",
       "      <td>1.581163</td>\n",
       "      <td>0.004940</td>\n",
       "    </tr>\n",
       "    <tr>\n",
       "      <th>39</th>\n",
       "      <td>1.496833</td>\n",
       "      <td>0.004058</td>\n",
       "      <td>1.581177</td>\n",
       "      <td>0.004975</td>\n",
       "    </tr>\n",
       "    <tr>\n",
       "      <th>40</th>\n",
       "      <td>1.493696</td>\n",
       "      <td>0.003377</td>\n",
       "      <td>1.581028</td>\n",
       "      <td>0.005014</td>\n",
       "    </tr>\n",
       "    <tr>\n",
       "      <th>41</th>\n",
       "      <td>1.490980</td>\n",
       "      <td>0.003764</td>\n",
       "      <td>1.581004</td>\n",
       "      <td>0.005035</td>\n",
       "    </tr>\n",
       "    <tr>\n",
       "      <th>42</th>\n",
       "      <td>1.488313</td>\n",
       "      <td>0.003839</td>\n",
       "      <td>1.581221</td>\n",
       "      <td>0.005171</td>\n",
       "    </tr>\n",
       "    <tr>\n",
       "      <th>43</th>\n",
       "      <td>1.486253</td>\n",
       "      <td>0.004256</td>\n",
       "      <td>1.581085</td>\n",
       "      <td>0.005347</td>\n",
       "    </tr>\n",
       "    <tr>\n",
       "      <th>44</th>\n",
       "      <td>1.484534</td>\n",
       "      <td>0.003678</td>\n",
       "      <td>1.581261</td>\n",
       "      <td>0.005093</td>\n",
       "    </tr>\n",
       "    <tr>\n",
       "      <th>45</th>\n",
       "      <td>1.482275</td>\n",
       "      <td>0.004345</td>\n",
       "      <td>1.581253</td>\n",
       "      <td>0.005385</td>\n",
       "    </tr>\n",
       "    <tr>\n",
       "      <th>46</th>\n",
       "      <td>1.480251</td>\n",
       "      <td>0.004433</td>\n",
       "      <td>1.581651</td>\n",
       "      <td>0.005372</td>\n",
       "    </tr>\n",
       "    <tr>\n",
       "      <th>47</th>\n",
       "      <td>1.479149</td>\n",
       "      <td>0.004112</td>\n",
       "      <td>1.581685</td>\n",
       "      <td>0.005306</td>\n",
       "    </tr>\n",
       "    <tr>\n",
       "      <th>48</th>\n",
       "      <td>1.477685</td>\n",
       "      <td>0.004497</td>\n",
       "      <td>1.582095</td>\n",
       "      <td>0.005301</td>\n",
       "    </tr>\n",
       "    <tr>\n",
       "      <th>49</th>\n",
       "      <td>1.475054</td>\n",
       "      <td>0.004336</td>\n",
       "      <td>1.582268</td>\n",
       "      <td>0.005246</td>\n",
       "    </tr>\n",
       "  </tbody>\n",
       "</table>\n",
       "</div>"
      ],
      "text/plain": [
       "    train-rmse-mean  train-rmse-std  test-rmse-mean  test-rmse-std\n",
       "0          5.769163        0.007374        5.769191       0.015369\n",
       "1          5.237003        0.007058        5.237030       0.015577\n",
       "2          4.762219        0.006771        4.762251       0.015679\n",
       "3          4.340428        0.006447        4.340459       0.015726\n",
       "4          3.965825        0.005873        3.966092       0.016366\n",
       "5          3.634136        0.005779        3.634548       0.016151\n",
       "6          3.340857        0.004708        3.341839       0.016381\n",
       "7          3.083900        0.003909        3.085079       0.016570\n",
       "8          2.858389        0.003693        2.859875       0.016206\n",
       "9          2.661413        0.003534        2.664024       0.016485\n",
       "10         2.489751        0.003438        2.493339       0.015781\n",
       "11         2.342115        0.002726        2.347471       0.015088\n",
       "12         2.213757        0.001996        2.221667       0.015153\n",
       "13         2.104043        0.003174        2.114068       0.014543\n",
       "14         2.010784        0.003493        2.023166       0.013693\n",
       "15         1.931385        0.003125        1.945972       0.012721\n",
       "16         1.863917        0.003045        1.881049       0.011651\n",
       "17         1.807183        0.003193        1.827438       0.010692\n",
       "18         1.759111        0.002670        1.782260       0.010152\n",
       "19         1.717605        0.003769        1.745272       0.009174\n",
       "20         1.683697        0.004237        1.713724       0.008538\n",
       "21         1.655710        0.004237        1.688471       0.008004\n",
       "22         1.632125        0.004612        1.667783       0.007247\n",
       "23         1.612713        0.005172        1.650624       0.007197\n",
       "24         1.597138        0.004856        1.636761       0.006890\n",
       "25         1.582657        0.005023        1.625435       0.006098\n",
       "26         1.569909        0.003895        1.616079       0.006336\n",
       "27         1.559570        0.003503        1.608698       0.005755\n",
       "28         1.551248        0.003227        1.602900       0.005453\n",
       "29         1.543072        0.003440        1.597962       0.004627\n",
       "30         1.536428        0.002508        1.594171       0.004737\n",
       "31         1.531331        0.002439        1.591280       0.004563\n",
       "32         1.526160        0.003277        1.588441       0.004670\n",
       "33         1.520919        0.002501        1.586077       0.004992\n",
       "34         1.515109        0.002266        1.584712       0.004995\n",
       "35         1.511272        0.002388        1.583265       0.004872\n",
       "36         1.507142        0.003039        1.582397       0.004957\n",
       "37         1.502478        0.003943        1.581575       0.005180\n",
       "38         1.499536        0.003547        1.581163       0.004940\n",
       "39         1.496833        0.004058        1.581177       0.004975\n",
       "40         1.493696        0.003377        1.581028       0.005014\n",
       "41         1.490980        0.003764        1.581004       0.005035\n",
       "42         1.488313        0.003839        1.581221       0.005171\n",
       "43         1.486253        0.004256        1.581085       0.005347\n",
       "44         1.484534        0.003678        1.581261       0.005093\n",
       "45         1.482275        0.004345        1.581253       0.005385\n",
       "46         1.480251        0.004433        1.581651       0.005372\n",
       "47         1.479149        0.004112        1.581685       0.005306\n",
       "48         1.477685        0.004497        1.582095       0.005301\n",
       "49         1.475054        0.004336        1.582268       0.005246"
      ]
     },
     "execution_count": 158,
     "metadata": {},
     "output_type": "execute_result"
    }
   ],
   "source": [
    "cv_results"
   ]
  },
  {
   "cell_type": "code",
   "execution_count": 159,
   "metadata": {},
   "outputs": [
    {
     "name": "stdout",
     "output_type": "stream",
     "text": [
      "49    1.582268\n",
      "Name: test-rmse-mean, dtype: float64\n"
     ]
    }
   ],
   "source": [
    "print((cv_results[\"test-rmse-mean\"]).tail(1))"
   ]
  },
  {
   "cell_type": "code",
   "execution_count": 160,
   "metadata": {},
   "outputs": [],
   "source": [
    "#S.no\n",
    "# Get the test data features, skipping the first column 'patient_id'\n",
    "test_x = test_data[:, 1:]\n",
    "\n",
    "# Predict the credit amount values for the test data\n",
    "test_y = xg_reg.predict(test_x)\n",
    "df_test['base_score'] = test_y\n",
    "#df_test['S.no'] = df_test['serial number']\n",
    "df_test['base_score'] = df_test['base_score'].astype(float)\n",
    "df_test['base_score'] = df_test['base_score'].apply(lambda x: round(x, 2))\n",
    "df_test[['patient_id','base_score']] \\\n",
    "    .to_csv('submission.csv', index=False)"
   ]
  },
  {
   "cell_type": "code",
   "execution_count": null,
   "metadata": {},
   "outputs": [],
   "source": []
  },
  {
   "cell_type": "code",
   "execution_count": null,
   "metadata": {},
   "outputs": [],
   "source": []
  }
 ],
 "metadata": {
  "kernelspec": {
   "display_name": "Python 3",
   "language": "python",
   "name": "python3"
  },
  "language_info": {
   "codemirror_mode": {
    "name": "ipython",
    "version": 3
   },
   "file_extension": ".py",
   "mimetype": "text/x-python",
   "name": "python",
   "nbconvert_exporter": "python",
   "pygments_lexer": "ipython3",
   "version": "3.7.3"
  }
 },
 "nbformat": 4,
 "nbformat_minor": 1
}
